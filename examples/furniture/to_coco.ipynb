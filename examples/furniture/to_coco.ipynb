{
 "cells": [
  {
   "cell_type": "code",
   "execution_count": 14,
   "metadata": {},
   "outputs": [],
   "source": [
    "# this will merge your custom dataset into COCO for retraining."
   ]
  },
  {
   "cell_type": "code",
   "execution_count": 2,
   "metadata": {},
   "outputs": [],
   "source": [
    "#!/usr/bin/env python3\n",
    "import datetime\n",
    "import json\n",
    "import os\n",
    "import re\n",
    "import fnmatch\n",
    "from PIL import Image\n",
    "import numpy as np\n",
    "import sys\n",
    "sys.path.append('/app/pycococreator/')\n",
    "from pycococreatortools import pycococreatortools\n",
    "\n",
    "WMT_SRC_DIR = '/data/productgraph_from-hive_non-lifestyle/'\n",
    "DST_DIR = '/data/COCO_2017/train2017/'\n",
    "SRC_ANN_FILE = '/data/COCO_2017/annotations/instances_train2017.json'\n",
    "MERGED_ANN_FILE = '/data/COCO_2017/annotations/instances_merged.json'\n",
    "# being lazy and hard coding this for now\n",
    "#Area_Rugs  Bookcases  Desks  Dressers  Lamps  Nightstands  Stools  Television_Stands\n",
    "\n",
    "categories = [\n",
    "    {\n",
    "        'id': 91,\n",
    "        'name': 'Area_Rugs',\n",
    "        'supercategory': 'furniture',\n",
    "    },\n",
    "        {\n",
    "        'id': 92,\n",
    "        'name': 'Bookcases',\n",
    "        'supercategory': 'furniture',\n",
    "    },\n",
    "        {\n",
    "        'id': 93,\n",
    "        'name': 'Desks',\n",
    "        'supercategory': 'furniture',\n",
    "    },\n",
    "        {\n",
    "        'id': 95,\n",
    "        'name': 'Dressers',\n",
    "        'supercategory': 'furniture',\n",
    "    },\n",
    "        {\n",
    "        'id': 96,\n",
    "        'name': 'Lamps',\n",
    "        'supercategory': 'furniture',\n",
    "    },\n",
    "        {\n",
    "        'id': 97,\n",
    "        'name': 'Nightstands',\n",
    "        'supercategory': 'furniture',\n",
    "    },\n",
    "        {\n",
    "        'id': 98,\n",
    "        'name': 'Stools',\n",
    "        'supercategory': 'furniture',\n",
    "    },\n",
    "        {\n",
    "        'id': 99,\n",
    "        'name': 'Television_Stands',\n",
    "        'supercategory': 'furniture',\n",
    "    }\n",
    "]"
   ]
  },
  {
   "cell_type": "code",
   "execution_count": 3,
   "metadata": {},
   "outputs": [],
   "source": [
    "def filter_for_jpeg(root, files):\n",
    "    file_types = ['*.jpeg']\n",
    "    file_types = r'|'.join([fnmatch.translate(x) for x in file_types])\n",
    "    files = [os.path.join(root, f) for f in files]\n",
    "    files = [f for f in files if re.match(file_types, f)]\n",
    "    return files\n",
    "\n",
    "def filter_for_annotations(root, files, image_filename):\n",
    "    file_types = ['*.png']\n",
    "    file_types = r'|'.join([fnmatch.translate(x) for x in file_types])\n",
    "    basename_no_extension = os.path.splitext(os.path.basename(image_filename))[0]\n",
    "    file_name_prefix = basename_no_extension + '.*'\n",
    "    files = [os.path.join(root, f) for f in files]\n",
    "    files = [f for f in files if re.match(file_types, f)]\n",
    "    files = [f for f in files if re.match(file_name_prefix, os.path.splitext(os.path.basename(f))[0])]\n",
    "    return files"
   ]
  },
  {
   "cell_type": "code",
   "execution_count": 23,
   "metadata": {},
   "outputs": [],
   "source": [
    "coco_anns = json.load(open(SRC_ANN_FILE))"
   ]
  },
  {
   "cell_type": "code",
   "execution_count": 24,
   "metadata": {},
   "outputs": [
    {
     "name": "stdout",
     "output_type": "stream",
     "text": [
      "max_img_id 581929 max_ann_id 909000554145\n"
     ]
    }
   ],
   "source": [
    "import heapq\n",
    "ann_ids = [x['id'] for x in coco_anns['annotations']]\n",
    "heapq.heapify(ann_ids)\n",
    "max_ann_id = heapq.nlargest(1, ann_ids)[0]\n",
    "img_ids = [x['id'] for x in coco_anns['images']]\n",
    "heapq.heapify(img_ids)\n",
    "max_img_id = heapq.nlargest(1, img_ids)[0]\n",
    "print(\"max_img_id {} max_ann_id {}\".format(max_img_id, max_ann_id))\n",
    "coco_anns.keys()\n",
    "coco_anns['categories'] = coco_anns['categories'] + categories"
   ]
  },
  {
   "cell_type": "code",
   "execution_count": 25,
   "metadata": {},
   "outputs": [
    {
     "name": "stdout",
     "output_type": "stream",
     "text": [
      "/data/productgraph_from-hive_non-lifestyle/\n",
      "/data/productgraph_from-hive_non-lifestyle/Bookcases\n",
      "/data/productgraph_from-hive_non-lifestyle/Nightstands\n",
      "/data/productgraph_from-hive_non-lifestyle/Stools\n",
      "/data/productgraph_from-hive_non-lifestyle/Television_Stands\n",
      "/data/productgraph_from-hive_non-lifestyle/Dressers\n",
      "/data/productgraph_from-hive_non-lifestyle/Area_Rugs\n",
      "/data/productgraph_from-hive_non-lifestyle/Desks\n",
      "/data/productgraph_from-hive_non-lifestyle/Lamps\n"
     ]
    }
   ],
   "source": [
    "image_id = max_img_id + 1\n",
    "# I am not sure how the segmentation id is helpful (or) used\n",
    "# Need to dig into the documentation\n",
    "segmentation_id = max_ann_id + 1\n",
    "for root, _, files in os.walk(WMT_SRC_DIR):\n",
    "    print(root)\n",
    "    image_files = filter_for_jpeg(root, files)\n",
    "    for fl in image_files:\n",
    "        image = Image.open(fl)\n",
    "        cgt = fl.split(\"/\")[-2]\n",
    "        flnme = fl.split(\"/\")[-1]\n",
    "        try:\n",
    "            os.symlink(fl, \"{}/{}\".format(DST_DIR, flnme))\n",
    "        except FileExistsError:\n",
    "            pass\n",
    "        image_info = pycococreatortools.create_image_info(image_id, os.path.basename(fl), image.size)\n",
    "        coco_anns[\"images\"].append(image_info)\n",
    "        #print(image_info)\n",
    "        ann_fl = re.sub('.jpeg', '-mask.png', fl)\n",
    "        #print(ann_fl)\n",
    "        class_id = [x['id'] for x in categories if x['name'] in cgt][0]\n",
    "        category_info = {'id': class_id, 'is_crowd': 0}\n",
    "        try:\n",
    "            binary_mask = np.asarray(Image.open(ann_fl))\n",
    "        except FileNotFoundError:\n",
    "            continue\n",
    "        #print(category_info, class_id)\n",
    "        annotation_info = pycococreatortools.create_annotation_info(\n",
    "            segmentation_id, image_id, category_info, binary_mask,\n",
    "            tolerance=2)\n",
    "            #image.size, tolerance=2)\n",
    "        #print(pycococreatortools.binary_mask_to_polygon(binary_mask))\n",
    "        #print(annotation_info)\n",
    "        if annotation_info is not None:\n",
    "            coco_anns[\"annotations\"].append(annotation_info)\n",
    "        segmentation_id = segmentation_id + 1\n",
    "        image_id = image_id + 1\n",
    "        \n",
    "with open(MERGED_ANN_FILE, 'w') as outfile:\n",
    "    json.dump(coco_anns, outfile)"
   ]
  },
  {
   "cell_type": "code",
   "execution_count": 13,
   "metadata": {},
   "outputs": [],
   "source": [
    "with open(MERGED_ANN_FILE, 'w') as outfile:\n",
    "    json.dump(coco_anns, outfile)"
   ]
  },
  {
   "cell_type": "code",
   "execution_count": 4,
   "metadata": {},
   "outputs": [],
   "source": [
    "SRC_VAL_ANN_FILE = '/data/COCO_2017/annotations/instances_val2017_og.json'\n",
    "MERGED_VAL_ANN_FILE = '/data/COCO_2017/annotations/instances_val2017.json'\n",
    "coco_anns_val = json.load(open(SRC_VAL_ANN_FILE))\n",
    "coco_anns_val['categories'] = coco_anns_val['categories'] + categories\n",
    "with open(MERGED_VAL_ANN_FILE, 'w') as outfile:\n",
    "    json.dump(coco_anns_val, outfile)"
   ]
  },
  {
   "cell_type": "code",
   "execution_count": null,
   "metadata": {},
   "outputs": [],
   "source": []
  }
 ],
 "metadata": {
  "kernelspec": {
   "display_name": "Python 2",
   "language": "python",
   "name": "python2"
  },
  "language_info": {
   "codemirror_mode": {
    "name": "ipython",
    "version": 2
   },
   "file_extension": ".py",
   "mimetype": "text/x-python",
   "name": "python",
   "nbconvert_exporter": "python",
   "pygments_lexer": "ipython2",
   "version": "2.7.12"
  }
 },
 "nbformat": 4,
 "nbformat_minor": 2
}
